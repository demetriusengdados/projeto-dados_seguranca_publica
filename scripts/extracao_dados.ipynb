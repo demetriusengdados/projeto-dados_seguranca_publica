{
 "cells": [
  {
   "cell_type": "code",
   "execution_count": null,
   "metadata": {},
   "outputs": [],
   "source": [
    "import requests\n",
    "import psycopg2\n",
    "import pandas as pd\n",
    "\n",
    "# Configuração do PostgreSQL\n",
    "DB_CONFIG = {\n",
    "    \"dbname\": \"seguranca_publica\",\n",
    "    \"user\": \"seu_usuario\",\n",
    "    \"password\": \"sua_senha\",\n",
    "    \"host\": \"localhost\",\n",
    "    \"port\": \"5432\",\n",
    "}"
   ]
  },
  {
   "cell_type": "code",
   "execution_count": null,
   "metadata": {},
   "outputs": [],
   "source": [
    "# URL da API pública de segurança (substitua por uma real)\n",
    "API_URL = \"https://github.com/rayonnunes/api_seguranca_publica\"\n",
    "\n",
    "# Função para extrair os dados da API\n",
    "def extrair_dados_api():\n",
    "    response = requests.get(API_URL)\n",
    "    \n",
    "    if response.status_code == 200:\n",
    "        dados = response.json()  # Converter para JSON\n",
    "        return dados\n",
    "    else:\n",
    "        print(f\"Erro ao acessar API: {response.status_code}\")\n",
    "        return []"
   ]
  },
  {
   "cell_type": "code",
   "execution_count": null,
   "metadata": {},
   "outputs": [],
   "source": [
    "# Função para transformar os dados em um DataFrame do Pandas\n",
    "def transformar_dados(dados):\n",
    "    df = pd.DataFrame(dados)\n",
    "\n",
    "    # Renomear colunas para um padrão mais claro\n",
    "    df.rename(columns={\n",
    "        \"id\": \"crime_id\",\n",
    "        \"tipo\": \"tipo_crime\",\n",
    "        \"data\": \"data_ocorrencia\",\n",
    "        \"localizacao\": \"endereco\",\n",
    "        \"descricao\": \"descricao_crime\"\n",
    "    }, inplace=True)\n",
    "\n",
    "    # Converter colunas para o formato adequado\n",
    "    df[\"data_ocorrencia\"] = pd.to_datetime(df[\"data_ocorrencia\"])\n",
    "\n",
    "    return df"
   ]
  },
  {
   "cell_type": "code",
   "execution_count": null,
   "metadata": {},
   "outputs": [],
   "source": [
    "# Função para salvar os dados no PostgreSQL\n",
    "def salvar_no_postgres(df):\n",
    "    try:\n",
    "        conn = psycopg2.connect(**DB_CONFIG)\n",
    "        cur = conn.cursor()\n",
    "\n",
    "        # Criar tabela se não existir\n",
    "        cur.execute(\"\"\"\n",
    "        CREATE TABLE IF NOT EXISTS crimes (\n",
    "            crime_id SERIAL PRIMARY KEY,\n",
    "            tipo_crime VARCHAR(255),\n",
    "            data_ocorrencia TIMESTAMP,\n",
    "            endereco TEXT,\n",
    "            descricao_crime TEXT\n",
    "        );\n",
    "        \"\"\")\n",
    "\n",
    "        # Inserir dados no banco\n",
    "        for _, row in df.iterrows():\n",
    "            cur.execute(\"\"\"\n",
    "            INSERT INTO crimes (tipo_crime, data_ocorrencia, endereco, descricao_crime)\n",
    "            VALUES (%s, %s, %s, %s);\n",
    "            \"\"\", (row[\"tipo_crime\"], row[\"data_ocorrencia\"], row[\"endereco\"], row[\"descricao_crime\"]))\n",
    "\n",
    "        conn.commit()\n",
    "        cur.close()\n",
    "        conn.close()\n",
    "        print(\"Dados inseridos no PostgreSQL com sucesso!\")\n",
    "\n",
    "    except Exception as e:\n",
    "        print(f\"Erro ao salvar no PostgreSQL: {e}\")\n"
   ]
  },
  {
   "cell_type": "code",
   "execution_count": null,
   "metadata": {},
   "outputs": [],
   "source": [
    "# Fluxo do pipeline\n",
    "dados_crimes = extrair_dados_api()\n",
    "if dados_crimes:\n",
    "    df_crimes = transformar_dados(dados_crimes)\n",
    "    salvar_no_postgres(df_crimes)"
   ]
  }
 ],
 "metadata": {
  "language_info": {
   "name": "python"
  }
 },
 "nbformat": 4,
 "nbformat_minor": 2
}
