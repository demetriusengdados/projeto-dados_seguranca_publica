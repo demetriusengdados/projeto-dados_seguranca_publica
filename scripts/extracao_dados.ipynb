{
 "cells": [
  {
   "cell_type": "code",
   "execution_count": null,
   "metadata": {},
   "outputs": [],
   "source": [
    "# Importando as libs\n",
    "import os\n",
    "import requests\n",
    "import psycopg2\n",
    "import pandas as pd\n",
    "from sqlalchemy import create_engine"
   ]
  },
  {
   "cell_type": "code",
   "execution_count": 11,
   "metadata": {},
   "outputs": [],
   "source": [
    "\n",
    "# Configuração do PostgreSQL\n",
    "DB_CONFIG = {\n",
    "    \"dbname\": \"seguranca_publica\",\n",
    "    \"user\": \"seu_usuario\",\n",
    "    \"password\": \"sua_senha\",\n",
    "    \"host\": \"localhost\",\n",
    "    \"port\": \"5432\",\n",
    "}"
   ]
  },
  {
   "cell_type": "code",
   "execution_count": null,
   "metadata": {},
   "outputs": [
    {
     "ename": "ValueError",
     "evalue": "Chave de API do Datajud não encontrada nas variáveis de ambiente.",
     "output_type": "error",
     "traceback": [
      "\u001b[31m---------------------------------------------------------------------------\u001b[39m",
      "\u001b[31mValueError\u001b[39m                                Traceback (most recent call last)",
      "\u001b[36mCell\u001b[39m\u001b[36m \u001b[39m\u001b[32mIn[12]\u001b[39m\u001b[32m, line 3\u001b[39m\n\u001b[32m      1\u001b[39m API_KEY = os.environ.get(\u001b[33m\"\u001b[39m\u001b[33mDATAJUD_API_KEY\u001b[39m\u001b[33m\"\u001b[39m)\n\u001b[32m      2\u001b[39m \u001b[38;5;28;01mif\u001b[39;00m \u001b[38;5;129;01mnot\u001b[39;00m API_KEY:\n\u001b[32m----> \u001b[39m\u001b[32m3\u001b[39m     \u001b[38;5;28;01mraise\u001b[39;00m \u001b[38;5;167;01mValueError\u001b[39;00m(\u001b[33m\"\u001b[39m\u001b[33mChave de API do Datajud não encontrada nas variáveis de ambiente.\u001b[39m\u001b[33m\"\u001b[39m)\n",
      "\u001b[31mValueError\u001b[39m: Chave de API do Datajud não encontrada nas variáveis de ambiente."
     ]
    }
   ],
   "source": [
    "# Configuração do Datajud\n",
    "API_KEY = os.environ.get(\"DATAJUD_API_KEY\")\n",
    "if not API_KEY:\n",
    "    raise ValueError(\"Chave de API do Datajud não encontrada nas variáveis de ambiente.\")"
   ]
  },
  {
   "cell_type": "code",
   "execution_count": 8,
   "metadata": {},
   "outputs": [
    {
     "name": "stdout",
     "output_type": "stream",
     "text": [
      "Erro ao acessar API: 403\n",
      "{\"error\":{\"root_cause\":[{\"type\":\"security_exception\",\"reason\":\"action [indices:admin/get] is unauthorized for API key id [p6Gc9YkBZuTDd2BzwPmv] of user [dpj_api_publica] on indices [api_publica_trf1], this action is granted by the index privileges [view_index_metadata,manage,all]\"}],\"type\":\"security_exception\",\"reason\":\"action [indices:admin/get] is unauthorized for API key id [p6Gc9YkBZuTDd2BzwPmv] of user [dpj_api_publica] on indices [api_publica_trf1], this action is granted by the index privileges [view_index_metadata,manage,all]\"},\"status\":403}\n"
     ]
    }
   ],
   "source": [
    "# Configuração da API\n",
    "\n",
    "API_URL = \"https://api-publica.datajud.cnj.jus.br/api_publica_trf1/\"\n",
    "API_KEY = \"cDZHYzlZa0JadVREZDJCendQbXY6SkJlTzNjLV9TRENyQk1RdnFKZGRQdw==\"  # Sua chave de API\n",
    "\n",
    "headers = {\n",
    "    \"Authorization\": f\"APIKey {API_KEY}\"\n",
    "}\n",
    "\n",
    "def extrair_dados_api():\n",
    "    response = requests.get(API_URL, headers=headers)\n",
    "\n",
    "    if response.status_code == 200:\n",
    "        dados = response.json()\n",
    "        return dados\n",
    "    else:\n",
    "        print(f\"Erro ao acessar API: {response.status_code}\")\n",
    "        print(response.text) # Imprime o conteúdo da resposta para auxiliar na depuração\n",
    "        return None\n",
    "\n",
    "dados_api = extrair_dados_api()\n",
    "\n",
    "if dados_api:\n",
    "    print(dados_api)"
   ]
  },
  {
   "cell_type": "code",
   "execution_count": null,
   "metadata": {},
   "outputs": [],
   "source": [
    "# Função para transformar os dados em um DataFrame do Pandas\n",
    "def transformar_dados(dados):\n",
    "    df = pd.DataFrame(dados)\n",
    "\n",
    "    # Renomear colunas para um padrão mais claro\n",
    "    df.rename(columns={\n",
    "        \"id\": \"crime_id\",\n",
    "        \"tipo\": \"tipo_crime\",\n",
    "        \"data\": \"data_ocorrencia\",\n",
    "        \"localizacao\": \"endereco\",\n",
    "        \"descricao\": \"descricao_crime\"\n",
    "    }, inplace=True)\n",
    "\n",
    "    # Converter colunas para o formato adequado\n",
    "    df[\"data_ocorrencia\"] = pd.to_datetime(df[\"data_ocorrencia\"])\n",
    "\n",
    "    return df"
   ]
  },
  {
   "cell_type": "code",
   "execution_count": 4,
   "metadata": {},
   "outputs": [],
   "source": [
    "# Função para salvar os dados no PostgreSQL\n",
    "def salvar_no_postgres(df):\n",
    "    try:\n",
    "        conn = psycopg2.connect(**DB_CONFIG)\n",
    "        cur = conn.cursor()\n",
    "\n",
    "        # Criar tabela se não existir\n",
    "        cur.execute(\"\"\"\n",
    "        CREATE TABLE IF NOT EXISTS crimes (\n",
    "            crime_id SERIAL PRIMARY KEY,\n",
    "            tipo_crime VARCHAR(255),\n",
    "            data_ocorrencia TIMESTAMP,\n",
    "            endereco TEXT,\n",
    "            descricao_crime TEXT\n",
    "        );\n",
    "        \"\"\")\n",
    "\n",
    "        # Inserir dados no banco\n",
    "        for _, row in df.iterrows():\n",
    "            cur.execute(\"\"\"\n",
    "            INSERT INTO crimes (tipo_crime, data_ocorrencia, endereco, descricao_crime)\n",
    "            VALUES (%s, %s, %s, %s);\n",
    "            \"\"\", (row[\"tipo_crime\"], row[\"data_ocorrencia\"], row[\"endereco\"], row[\"descricao_crime\"]))\n",
    "\n",
    "        conn.commit()\n",
    "        cur.close()\n",
    "        conn.close()\n",
    "        print(\"Dados inseridos no PostgreSQL com sucesso!\")\n",
    "\n",
    "    except Exception as e:\n",
    "        print(f\"Erro ao salvar no PostgreSQL: {e}\")\n"
   ]
  },
  {
   "cell_type": "code",
   "execution_count": 5,
   "metadata": {},
   "outputs": [
    {
     "name": "stdout",
     "output_type": "stream",
     "text": [
      "Erro ao acessar API: 401\n"
     ]
    }
   ],
   "source": [
    "# Fluxo do pipeline\n",
    "dados_crimes = extrair_dados_api()\n",
    "if dados_crimes:\n",
    "    df_crimes = transformar_dados(dados_crimes)\n",
    "    salvar_no_postgres(df_crimes)"
   ]
  }
 ],
 "metadata": {
  "kernelspec": {
   "display_name": "venv",
   "language": "python",
   "name": "python3"
  },
  "language_info": {
   "codemirror_mode": {
    "name": "ipython",
    "version": 3
   },
   "file_extension": ".py",
   "mimetype": "text/x-python",
   "name": "python",
   "nbconvert_exporter": "python",
   "pygments_lexer": "ipython3",
   "version": "3.13.0"
  }
 },
 "nbformat": 4,
 "nbformat_minor": 2
}
