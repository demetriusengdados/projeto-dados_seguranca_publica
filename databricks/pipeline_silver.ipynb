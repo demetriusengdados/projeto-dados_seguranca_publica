{
 "cells": [
  {
   "cell_type": "code",
   "execution_count": null,
   "metadata": {},
   "outputs": [],
   "source": [
    "from pyspark.sql.functions import col\n",
    "\n",
    "# Ler os dados brutos (Bronze)\n",
    "df = spark.read.format(\"delta\").load(\"/mnt/datalake/bronze/transacoes\")\n",
    "\n",
    "# Transformações (remoção de nulos, tipos corretos)\n",
    "df = df.dropna()\n",
    "df = df.withColumn(\"valor_transacao\", col(\"valor_transacao\").cast(\"double\"))\n",
    "\n",
    "# Salvar em Delta Lake com Particionamento (Silver)\n",
    "df.write.format(\"delta\") \\\n",
    "    .mode(\"overwrite\") \\\n",
    "    .partitionBy(\"ano\", \"mes\") \\\n",
    "    .save(\"/mnt/datalake/silver/transacoes\")\n",
    "\n",
    "print(\"Transformação para a camada Silver concluída! ✅\")\n"
   ]
  }
 ],
 "metadata": {
  "language_info": {
   "name": "python"
  }
 },
 "nbformat": 4,
 "nbformat_minor": 2
}
