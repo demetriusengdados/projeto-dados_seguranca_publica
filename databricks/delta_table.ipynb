{
 "cells": [
  {
   "cell_type": "code",
   "execution_count": null,
   "metadata": {},
   "outputs": [],
   "source": [
    "from time import time\n",
    "\n",
    "start_time = time()\n",
    "\n",
    "df = spark.read.format(\"delta\").load(\"/mnt/datalake/bronze/transacoes\")\n",
    "df.filter(col(\"ano\") == 2025).count()\n",
    "\n",
    "end_time = time()\n",
    "print(f\"Tempo da query antes da otimização: {end_time - start_time:.2f} segundos\")\n",
    "\n",
    "\n",
    "\n",
    "\n"
   ]
  },
  {
   "cell_type": "code",
   "execution_count": null,
   "metadata": {},
   "outputs": [],
   "source": [
    "df.write.format(\"delta\") \\\n",
    "    .mode(\"overwrite\") \\\n",
    "    .partitionBy(\"ano\", \"mes\") \\\n",
    "    .save(\"/mnt/datalake/silver/transacoes\")"
   ]
  },
  {
   "cell_type": "code",
   "execution_count": null,
   "metadata": {
    "vscode": {
     "languageId": "sql"
    }
   },
   "outputs": [],
   "source": [
    "OPTIMIZE delta.`/mnt/datalake/silver/transacoes` ZORDER BY (customer_id);"
   ]
  },
  {
   "cell_type": "code",
   "execution_count": null,
   "metadata": {
    "vscode": {
     "languageId": "sql"
    }
   },
   "outputs": [],
   "source": [
    "ALTER TABLE delta.`/mnt/datalake/silver/transacoes`\n",
    "ADD CONSTRAINT bloomfilter_customer_id\n",
    "USING BLOOMFILTER ON (customer_id);"
   ]
  },
  {
   "cell_type": "code",
   "execution_count": null,
   "metadata": {},
   "outputs": [],
   "source": [
    "start_time = time()\n",
    "\n",
    "df_optimized = spark.read.format(\"delta\").load(\"/mnt/datalake/silver/transacoes\")\n",
    "df_optimized.filter(col(\"ano\") == 2023).count()\n",
    "\n",
    "end_time = time()\n",
    "print(f\"Tempo da query após a otimização: {end_time - start_time:.2f} segundos\")\n"
   ]
  }
 ],
 "metadata": {
  "language_info": {
   "name": "python"
  }
 },
 "nbformat": 4,
 "nbformat_minor": 2
}
