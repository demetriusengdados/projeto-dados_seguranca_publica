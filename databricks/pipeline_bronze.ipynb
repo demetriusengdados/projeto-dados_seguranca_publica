{
 "cells": [
  {
   "cell_type": "code",
   "execution_count": null,
   "metadata": {},
   "outputs": [],
   "source": [
    "from pyspark.sql import SparkSession\n",
    "from pyspark.sql.functions import col\n",
    "import random\n",
    "\n",
    "# Criar sessão Spark\n",
    "spark = SparkSession.builder.appName(\"DataLakePipeline\").getOrCreate()\n",
    "\n",
    "# Simular ingestão de arquivos CSV\n",
    "df = spark.read.option(\"header\", \"true\").csv(\"/mnt/raw/transacoes/\")\n",
    "\n",
    "# Gravar no Delta Lake (Bronze)\n",
    "df.write.format(\"delta\").mode(\"overwrite\").save(\"/mnt/datalake/bronze/transacoes\")\n",
    "\n",
    "print(\"Ingestão para a camada Bronze finalizada! ✅\")\n"
   ]
  }
 ],
 "metadata": {
  "language_info": {
   "name": "python"
  }
 },
 "nbformat": 4,
 "nbformat_minor": 2
}
